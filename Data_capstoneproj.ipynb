{
  "nbformat": 4,
  "nbformat_minor": 0,
  "metadata": {
    "colab": {
      "name": "Untitled9.ipynb",
      "provenance": [],
      "authorship_tag": "ABX9TyNgogIK7xZoOiEzBko437YS",
      "include_colab_link": true
    },
    "kernelspec": {
      "name": "python3",
      "display_name": "Python 3"
    }
  },
  "cells": [
    {
      "cell_type": "markdown",
      "metadata": {
        "id": "view-in-github",
        "colab_type": "text"
      },
      "source": [
        "<a href=\"https://colab.research.google.com/github/divyapavar/Coursera_capstone/blob/master/Data_capstoneproj.ipynb\" target=\"_parent\"><img src=\"https://colab.research.google.com/assets/colab-badge.svg\" alt=\"Open In Colab\"/></a>"
      ]
    },
    {
      "cell_type": "code",
      "metadata": {
        "id": "b3X47DWLuoBW",
        "colab_type": "code",
        "colab": {}
      },
      "source": [
        ""
      ],
      "execution_count": null,
      "outputs": []
    },
    {
      "cell_type": "markdown",
      "metadata": {
        "id": "nhpJWdz7upwg",
        "colab_type": "text"
      },
      "source": [
        "Initial Data Preparation\n",
        "1. Get The Names of Boroughs, Areas, Population, Coordinates from Wikipedia 2.3. Processing the Information From Wiki To Make Necessary Lists 4. Check and Compare with Google Search and Refine if Necessary\n",
        "First, we get the nessessary information on London Boroughs, dropping the extras, that will not be needed for the analysis."
      ]
    },
    {
      "cell_type": "code",
      "metadata": {
        "id": "e3CQ-sAZu31N",
        "colab_type": "code",
        "colab": {
          "base_uri": "https://localhost:8080/",
          "height": 360
        },
        "outputId": "a6f7b539-1e2b-4666-b02d-55ca11db655a"
      },
      "source": [
        "from geopy.geocoders import Nominatim\n",
        "import matplotlib.pyplot as plt\n",
        "import seaborn as sns\n",
        "import pandas as pd\n",
        "import numpy as np\n",
        "import requests\n",
        "\n",
        "url='https://en.wikipedia.org/wiki/List_of_London_boroughs'\n",
        "\n",
        "LDF=pd.read_html(url, header=0)[0]\n",
        "\n",
        "LDF.head()"
      ],
      "execution_count": 1,
      "outputs": [
        {
          "output_type": "stream",
          "text": [
            "/usr/local/lib/python3.6/dist-packages/statsmodels/tools/_testing.py:19: FutureWarning: pandas.util.testing is deprecated. Use the functions in the public API at pandas.testing instead.\n",
            "  import pandas.util.testing as tm\n"
          ],
          "name": "stderr"
        },
        {
          "output_type": "execute_result",
          "data": {
            "text/html": [
              "<div>\n",
              "<style scoped>\n",
              "    .dataframe tbody tr th:only-of-type {\n",
              "        vertical-align: middle;\n",
              "    }\n",
              "\n",
              "    .dataframe tbody tr th {\n",
              "        vertical-align: top;\n",
              "    }\n",
              "\n",
              "    .dataframe thead th {\n",
              "        text-align: right;\n",
              "    }\n",
              "</style>\n",
              "<table border=\"1\" class=\"dataframe\">\n",
              "  <thead>\n",
              "    <tr style=\"text-align: right;\">\n",
              "      <th></th>\n",
              "      <th>Borough</th>\n",
              "      <th>Inner</th>\n",
              "      <th>Status</th>\n",
              "      <th>Local authority</th>\n",
              "      <th>Political control</th>\n",
              "      <th>Headquarters</th>\n",
              "      <th>Area (sq mi)</th>\n",
              "      <th>Population (2013 est)[1]</th>\n",
              "      <th>Co-ordinates</th>\n",
              "      <th>Nr. in map</th>\n",
              "    </tr>\n",
              "  </thead>\n",
              "  <tbody>\n",
              "    <tr>\n",
              "      <th>0</th>\n",
              "      <td>Barking and Dagenham [note 1]</td>\n",
              "      <td>NaN</td>\n",
              "      <td>NaN</td>\n",
              "      <td>Barking and Dagenham London Borough Council</td>\n",
              "      <td>Labour</td>\n",
              "      <td>Town Hall, 1 Town Square</td>\n",
              "      <td>13.93</td>\n",
              "      <td>194352</td>\n",
              "      <td>51°33′39″N 0°09′21″E﻿ / ﻿51.5607°N 0.1557°E</td>\n",
              "      <td>25</td>\n",
              "    </tr>\n",
              "    <tr>\n",
              "      <th>1</th>\n",
              "      <td>Barnet</td>\n",
              "      <td>NaN</td>\n",
              "      <td>NaN</td>\n",
              "      <td>Barnet London Borough Council</td>\n",
              "      <td>Conservative</td>\n",
              "      <td>Barnet House, 2 Bristol Avenue, Colindale</td>\n",
              "      <td>33.49</td>\n",
              "      <td>369088</td>\n",
              "      <td>51°37′31″N 0°09′06″W﻿ / ﻿51.6252°N 0.1517°W</td>\n",
              "      <td>31</td>\n",
              "    </tr>\n",
              "    <tr>\n",
              "      <th>2</th>\n",
              "      <td>Bexley</td>\n",
              "      <td>NaN</td>\n",
              "      <td>NaN</td>\n",
              "      <td>Bexley London Borough Council</td>\n",
              "      <td>Conservative</td>\n",
              "      <td>Civic Offices, 2 Watling Street</td>\n",
              "      <td>23.38</td>\n",
              "      <td>236687</td>\n",
              "      <td>51°27′18″N 0°09′02″E﻿ / ﻿51.4549°N 0.1505°E</td>\n",
              "      <td>23</td>\n",
              "    </tr>\n",
              "    <tr>\n",
              "      <th>3</th>\n",
              "      <td>Brent</td>\n",
              "      <td>NaN</td>\n",
              "      <td>NaN</td>\n",
              "      <td>Brent London Borough Council</td>\n",
              "      <td>Labour</td>\n",
              "      <td>Brent Civic Centre, Engineers Way</td>\n",
              "      <td>16.70</td>\n",
              "      <td>317264</td>\n",
              "      <td>51°33′32″N 0°16′54″W﻿ / ﻿51.5588°N 0.2817°W</td>\n",
              "      <td>12</td>\n",
              "    </tr>\n",
              "    <tr>\n",
              "      <th>4</th>\n",
              "      <td>Bromley</td>\n",
              "      <td>NaN</td>\n",
              "      <td>NaN</td>\n",
              "      <td>Bromley London Borough Council</td>\n",
              "      <td>Conservative</td>\n",
              "      <td>Civic Centre, Stockwell Close</td>\n",
              "      <td>57.97</td>\n",
              "      <td>317899</td>\n",
              "      <td>51°24′14″N 0°01′11″E﻿ / ﻿51.4039°N 0.0198°E</td>\n",
              "      <td>20</td>\n",
              "    </tr>\n",
              "  </tbody>\n",
              "</table>\n",
              "</div>"
            ],
            "text/plain": [
              "                         Borough  ... Nr. in map\n",
              "0  Barking and Dagenham [note 1]  ...         25\n",
              "1                         Barnet  ...         31\n",
              "2                         Bexley  ...         23\n",
              "3                          Brent  ...         12\n",
              "4                        Bromley  ...         20\n",
              "\n",
              "[5 rows x 10 columns]"
            ]
          },
          "metadata": {
            "tags": []
          },
          "execution_count": 1
        }
      ]
    },
    {
      "cell_type": "code",
      "metadata": {
        "id": "1UGL27IUu940",
        "colab_type": "code",
        "colab": {
          "base_uri": "https://localhost:8080/",
          "height": 204
        },
        "outputId": "4d09e0ab-acaa-40a2-d5ec-13e419832c3e"
      },
      "source": [
        "LF = LDF.drop(['Status','Local authority','Political control','Headquarters','Nr. in map'], axis=1)\n",
        "LF['Inner'].replace(np.nan,'0', inplace=True)\n",
        "LF['Borough'].replace('Barking and Dagenham [note 1]','Barking and Dagenham', inplace=True)\n",
        "LF['Borough'].replace('Greenwich [note 2]','Greenwich', inplace=True)\n",
        "LF['Borough'].replace('Hammersmith and Fulham [note 4]','Hammersmith and Fulham', inplace=True)\n",
        "Inn = ['Camden','Greenwich','Hackney','Hammersmith and Fulham','Islington','Kensington and Chelsea','Lewisham','Lambeth','Southwark','Tower Hamlets','Wandsworth','Westminster']\n",
        "LF.head()\n",
        "LF['Inner'] = '0'\n",
        "LF.head()"
      ],
      "execution_count": 2,
      "outputs": [
        {
          "output_type": "execute_result",
          "data": {
            "text/html": [
              "<div>\n",
              "<style scoped>\n",
              "    .dataframe tbody tr th:only-of-type {\n",
              "        vertical-align: middle;\n",
              "    }\n",
              "\n",
              "    .dataframe tbody tr th {\n",
              "        vertical-align: top;\n",
              "    }\n",
              "\n",
              "    .dataframe thead th {\n",
              "        text-align: right;\n",
              "    }\n",
              "</style>\n",
              "<table border=\"1\" class=\"dataframe\">\n",
              "  <thead>\n",
              "    <tr style=\"text-align: right;\">\n",
              "      <th></th>\n",
              "      <th>Borough</th>\n",
              "      <th>Inner</th>\n",
              "      <th>Area (sq mi)</th>\n",
              "      <th>Population (2013 est)[1]</th>\n",
              "      <th>Co-ordinates</th>\n",
              "    </tr>\n",
              "  </thead>\n",
              "  <tbody>\n",
              "    <tr>\n",
              "      <th>0</th>\n",
              "      <td>Barking and Dagenham</td>\n",
              "      <td>0</td>\n",
              "      <td>13.93</td>\n",
              "      <td>194352</td>\n",
              "      <td>51°33′39″N 0°09′21″E﻿ / ﻿51.5607°N 0.1557°E</td>\n",
              "    </tr>\n",
              "    <tr>\n",
              "      <th>1</th>\n",
              "      <td>Barnet</td>\n",
              "      <td>0</td>\n",
              "      <td>33.49</td>\n",
              "      <td>369088</td>\n",
              "      <td>51°37′31″N 0°09′06″W﻿ / ﻿51.6252°N 0.1517°W</td>\n",
              "    </tr>\n",
              "    <tr>\n",
              "      <th>2</th>\n",
              "      <td>Bexley</td>\n",
              "      <td>0</td>\n",
              "      <td>23.38</td>\n",
              "      <td>236687</td>\n",
              "      <td>51°27′18″N 0°09′02″E﻿ / ﻿51.4549°N 0.1505°E</td>\n",
              "    </tr>\n",
              "    <tr>\n",
              "      <th>3</th>\n",
              "      <td>Brent</td>\n",
              "      <td>0</td>\n",
              "      <td>16.70</td>\n",
              "      <td>317264</td>\n",
              "      <td>51°33′32″N 0°16′54″W﻿ / ﻿51.5588°N 0.2817°W</td>\n",
              "    </tr>\n",
              "    <tr>\n",
              "      <th>4</th>\n",
              "      <td>Bromley</td>\n",
              "      <td>0</td>\n",
              "      <td>57.97</td>\n",
              "      <td>317899</td>\n",
              "      <td>51°24′14″N 0°01′11″E﻿ / ﻿51.4039°N 0.0198°E</td>\n",
              "    </tr>\n",
              "  </tbody>\n",
              "</table>\n",
              "</div>"
            ],
            "text/plain": [
              "                Borough  ...                                 Co-ordinates\n",
              "0  Barking and Dagenham  ...  51°33′39″N 0°09′21″E﻿ / ﻿51.5607°N 0.1557°E\n",
              "1                Barnet  ...  51°37′31″N 0°09′06″W﻿ / ﻿51.6252°N 0.1517°W\n",
              "2                Bexley  ...  51°27′18″N 0°09′02″E﻿ / ﻿51.4549°N 0.1505°E\n",
              "3                 Brent  ...  51°33′32″N 0°16′54″W﻿ / ﻿51.5588°N 0.2817°W\n",
              "4               Bromley  ...  51°24′14″N 0°01′11″E﻿ / ﻿51.4039°N 0.0198°E\n",
              "\n",
              "[5 rows x 5 columns]"
            ]
          },
          "metadata": {
            "tags": []
          },
          "execution_count": 2
        }
      ]
    },
    {
      "cell_type": "code",
      "metadata": {
        "id": "aTXFeg64vEEQ",
        "colab_type": "code",
        "colab": {}
      },
      "source": [
        ""
      ],
      "execution_count": null,
      "outputs": []
    },
    {
      "cell_type": "markdown",
      "metadata": {
        "id": "hnqupHccvHh3",
        "colab_type": "text"
      },
      "source": [
        "Then we rename the columns, making the dataset better on the eyes. Because of extra notes in the Wiki page, we will rename some of the Boroughs. Due to the staggering difference in rent price, as well as the ammount of venues in London, we will filter to have only the Outer boroughs going forward"
      ]
    },
    {
      "cell_type": "code",
      "metadata": {
        "id": "q5602RxpvOPr",
        "colab_type": "code",
        "colab": {
          "base_uri": "https://localhost:8080/",
          "height": 204
        },
        "outputId": "35287206-dff8-4b5d-c6d1-9bce77b65671"
      },
      "source": [
        "LF['Inner'] = LF.Borough.isin(Inn).astype(int)\n",
        "Out = LF[LF.Inner == 0]\n",
        "Out = Out.drop(['Inner'], axis=1)\n",
        "df = Out.rename(columns = {\"Area (sq mi)\": \"Area\", \n",
        "                            \"Population (2013 est)[1]\":\"Population\"})\n",
        "geolocator = Nominatim(user_agent=\"London_explorer\")\n",
        "df['Co-ordinates']= df['Borough'].apply(geolocator.geocode).apply(lambda x: (x.latitude, x.longitude))\n",
        "df[['Latitude', 'Longitude']] = df['Co-ordinates'].apply(pd.Series)\n",
        "df.head()"
      ],
      "execution_count": 3,
      "outputs": [
        {
          "output_type": "execute_result",
          "data": {
            "text/html": [
              "<div>\n",
              "<style scoped>\n",
              "    .dataframe tbody tr th:only-of-type {\n",
              "        vertical-align: middle;\n",
              "    }\n",
              "\n",
              "    .dataframe tbody tr th {\n",
              "        vertical-align: top;\n",
              "    }\n",
              "\n",
              "    .dataframe thead th {\n",
              "        text-align: right;\n",
              "    }\n",
              "</style>\n",
              "<table border=\"1\" class=\"dataframe\">\n",
              "  <thead>\n",
              "    <tr style=\"text-align: right;\">\n",
              "      <th></th>\n",
              "      <th>Borough</th>\n",
              "      <th>Area</th>\n",
              "      <th>Population</th>\n",
              "      <th>Co-ordinates</th>\n",
              "      <th>Latitude</th>\n",
              "      <th>Longitude</th>\n",
              "    </tr>\n",
              "  </thead>\n",
              "  <tbody>\n",
              "    <tr>\n",
              "      <th>0</th>\n",
              "      <td>Barking and Dagenham</td>\n",
              "      <td>13.93</td>\n",
              "      <td>194352</td>\n",
              "      <td>(51.5541171, 0.15050434261994267)</td>\n",
              "      <td>51.554117</td>\n",
              "      <td>0.150504</td>\n",
              "    </tr>\n",
              "    <tr>\n",
              "      <th>1</th>\n",
              "      <td>Barnet</td>\n",
              "      <td>33.49</td>\n",
              "      <td>369088</td>\n",
              "      <td>(51.65309, -0.2002261)</td>\n",
              "      <td>51.653090</td>\n",
              "      <td>-0.200226</td>\n",
              "    </tr>\n",
              "    <tr>\n",
              "      <th>2</th>\n",
              "      <td>Bexley</td>\n",
              "      <td>23.38</td>\n",
              "      <td>236687</td>\n",
              "      <td>(39.9692378, -82.936864)</td>\n",
              "      <td>39.969238</td>\n",
              "      <td>-82.936864</td>\n",
              "    </tr>\n",
              "    <tr>\n",
              "      <th>3</th>\n",
              "      <td>Brent</td>\n",
              "      <td>16.70</td>\n",
              "      <td>317264</td>\n",
              "      <td>(32.9373463, -87.1647184)</td>\n",
              "      <td>32.937346</td>\n",
              "      <td>-87.164718</td>\n",
              "    </tr>\n",
              "    <tr>\n",
              "      <th>4</th>\n",
              "      <td>Bromley</td>\n",
              "      <td>57.97</td>\n",
              "      <td>317899</td>\n",
              "      <td>(51.4028046, 0.0148142)</td>\n",
              "      <td>51.402805</td>\n",
              "      <td>0.014814</td>\n",
              "    </tr>\n",
              "  </tbody>\n",
              "</table>\n",
              "</div>"
            ],
            "text/plain": [
              "                Borough   Area  ...   Latitude  Longitude\n",
              "0  Barking and Dagenham  13.93  ...  51.554117   0.150504\n",
              "1                Barnet  33.49  ...  51.653090  -0.200226\n",
              "2                Bexley  23.38  ...  39.969238 -82.936864\n",
              "3                 Brent  16.70  ...  32.937346 -87.164718\n",
              "4               Bromley  57.97  ...  51.402805   0.014814\n",
              "\n",
              "[5 rows x 6 columns]"
            ]
          },
          "metadata": {
            "tags": []
          },
          "execution_count": 3
        }
      ]
    },
    {
      "cell_type": "code",
      "metadata": {
        "id": "kGu3jEa4vO59",
        "colab_type": "code",
        "colab": {
          "base_uri": "https://localhost:8080/",
          "height": 331
        },
        "outputId": "9c7ac632-37e0-4c3e-b1cd-64a012c3ab42"
      },
      "source": [
        "Max_Rent = ['102.25','150.75','97','150.75','118.5','129.25','140','102.25','107.75','140','86','161.5','161.5','140','123.75','134.5','118.5','140','129.25','145.25']\n",
        "df['Max_Rent'] = Max_Rent\n",
        "\n",
        "df[\"Max_Rent\"] = pd.to_numeric(df[\"Max_Rent\"])\n",
        "fin = df[df.Max_Rent <= 125]\n",
        "fin\n",
        "\n",
        "Long_list = fin['Longitude'].tolist()\n",
        "Lat_list = fin['Latitude'].tolist()\n",
        "print (\"Old latitude list: \", Lat_list)\n",
        "print (\"Old Longitude list: \", Long_list)\n",
        "\n",
        "replace_longitudes = {-106.6621329:0.0799, -2.8417544: 0.1837}\n",
        "replace_latitudes = {50.7164496:51.6636, 51.0358628: 51.5499}\n",
        "\n",
        "longtitudes_new = [replace_longitudes.get(n7,n7) for n7 in Long_list]\n",
        "latitudes_new = [replace_latitudes.get(n7,n7) for n7 in Lat_list]\n",
        "\n",
        "fin = fin.drop(['Co-ordinates', 'Longitude'], axis=1)\n",
        "\n",
        "fin['Longitude'] = longtitudes_new\n",
        "fin['Latitude'] = latitudes_new\n",
        "fin"
      ],
      "execution_count": 4,
      "outputs": [
        {
          "output_type": "stream",
          "text": [
            "Old latitude list:  [51.5541171, 39.9692378, 51.4028046, 51.6520851, 51.587929849999995, 51.5443687, 51.410802849999996, 51.5763203]\n",
            "Old Longitude list:  [0.15050434261994267, -82.936864, 0.0148142, -0.0810175, -0.10541010599099046, -0.1443031798919795, -0.18809850595572736, 0.0454097]\n"
          ],
          "name": "stdout"
        },
        {
          "output_type": "execute_result",
          "data": {
            "text/html": [
              "<div>\n",
              "<style scoped>\n",
              "    .dataframe tbody tr th:only-of-type {\n",
              "        vertical-align: middle;\n",
              "    }\n",
              "\n",
              "    .dataframe tbody tr th {\n",
              "        vertical-align: top;\n",
              "    }\n",
              "\n",
              "    .dataframe thead th {\n",
              "        text-align: right;\n",
              "    }\n",
              "</style>\n",
              "<table border=\"1\" class=\"dataframe\">\n",
              "  <thead>\n",
              "    <tr style=\"text-align: right;\">\n",
              "      <th></th>\n",
              "      <th>Borough</th>\n",
              "      <th>Area</th>\n",
              "      <th>Population</th>\n",
              "      <th>Latitude</th>\n",
              "      <th>Max_Rent</th>\n",
              "      <th>Longitude</th>\n",
              "    </tr>\n",
              "  </thead>\n",
              "  <tbody>\n",
              "    <tr>\n",
              "      <th>0</th>\n",
              "      <td>Barking and Dagenham</td>\n",
              "      <td>13.93</td>\n",
              "      <td>194352</td>\n",
              "      <td>51.554117</td>\n",
              "      <td>102.25</td>\n",
              "      <td>0.150504</td>\n",
              "    </tr>\n",
              "    <tr>\n",
              "      <th>2</th>\n",
              "      <td>Bexley</td>\n",
              "      <td>23.38</td>\n",
              "      <td>236687</td>\n",
              "      <td>39.969238</td>\n",
              "      <td>97.00</td>\n",
              "      <td>-82.936864</td>\n",
              "    </tr>\n",
              "    <tr>\n",
              "      <th>4</th>\n",
              "      <td>Bromley</td>\n",
              "      <td>57.97</td>\n",
              "      <td>317899</td>\n",
              "      <td>51.402805</td>\n",
              "      <td>118.50</td>\n",
              "      <td>0.014814</td>\n",
              "    </tr>\n",
              "    <tr>\n",
              "      <th>8</th>\n",
              "      <td>Enfield</td>\n",
              "      <td>31.74</td>\n",
              "      <td>320524</td>\n",
              "      <td>51.652085</td>\n",
              "      <td>102.25</td>\n",
              "      <td>-0.081018</td>\n",
              "    </tr>\n",
              "    <tr>\n",
              "      <th>12</th>\n",
              "      <td>Haringey</td>\n",
              "      <td>11.42</td>\n",
              "      <td>263386</td>\n",
              "      <td>51.587930</td>\n",
              "      <td>107.75</td>\n",
              "      <td>-0.105410</td>\n",
              "    </tr>\n",
              "    <tr>\n",
              "      <th>14</th>\n",
              "      <td>Havering</td>\n",
              "      <td>43.35</td>\n",
              "      <td>242080</td>\n",
              "      <td>51.544369</td>\n",
              "      <td>86.00</td>\n",
              "      <td>-0.144303</td>\n",
              "    </tr>\n",
              "    <tr>\n",
              "      <th>22</th>\n",
              "      <td>Merton</td>\n",
              "      <td>14.52</td>\n",
              "      <td>203223</td>\n",
              "      <td>51.410803</td>\n",
              "      <td>123.75</td>\n",
              "      <td>-0.188099</td>\n",
              "    </tr>\n",
              "    <tr>\n",
              "      <th>24</th>\n",
              "      <td>Redbridge</td>\n",
              "      <td>21.78</td>\n",
              "      <td>288272</td>\n",
              "      <td>51.576320</td>\n",
              "      <td>118.50</td>\n",
              "      <td>0.045410</td>\n",
              "    </tr>\n",
              "  </tbody>\n",
              "</table>\n",
              "</div>"
            ],
            "text/plain": [
              "                 Borough   Area  Population   Latitude  Max_Rent  Longitude\n",
              "0   Barking and Dagenham  13.93      194352  51.554117    102.25   0.150504\n",
              "2                 Bexley  23.38      236687  39.969238     97.00 -82.936864\n",
              "4                Bromley  57.97      317899  51.402805    118.50   0.014814\n",
              "8                Enfield  31.74      320524  51.652085    102.25  -0.081018\n",
              "12              Haringey  11.42      263386  51.587930    107.75  -0.105410\n",
              "14              Havering  43.35      242080  51.544369     86.00  -0.144303\n",
              "22                Merton  14.52      203223  51.410803    123.75  -0.188099\n",
              "24             Redbridge  21.78      288272  51.576320    118.50   0.045410"
            ]
          },
          "metadata": {
            "tags": []
          },
          "execution_count": 4
        }
      ]
    },
    {
      "cell_type": "markdown",
      "metadata": {
        "id": "nHJkTUywvZoS",
        "colab_type": "text"
      },
      "source": [
        ""
      ]
    },
    {
      "cell_type": "markdown",
      "metadata": {
        "id": "3IdV2g6rvpj3",
        "colab_type": "text"
      },
      "source": [
        "Now lets make a map, with all boroughs in question marked up\n"
      ]
    },
    {
      "cell_type": "code",
      "metadata": {
        "id": "4q3nQMPGvrjp",
        "colab_type": "code",
        "colab": {
          "base_uri": "https://localhost:8080/",
          "height": 1000
        },
        "outputId": "491860c1-7b41-4d32-adbe-ae70f8ae38a8"
      },
      "source": [
        "from geopy.geocoders import Nominatim # convert an address into latitude and longitude values\n",
        "address = 'London'\n",
        "\n",
        "geolocator = Nominatim(user_agent=\"London_explorer\")\n",
        "location = geolocator.geocode(address)\n",
        "London_latitude = location.latitude\n",
        "London_longitude = location.longitude\n",
        "print('The geograpical coordinates of London are {}, {}.'.format(London_latitude, London_longitude))\n",
        "\n",
        "!pip install folium\n",
        "import folium\n",
        "\n",
        "Fin_Brgh = folium.Map(location=[London_latitude, London_longitude], zoom_start=12)\n",
        "\n",
        "\n",
        "for lat, lng, label in zip(fin['Latitude'], fin['Longitude'], \n",
        "                            fin['Borough']):\n",
        "    label = folium.Popup(label, parse_html=True)\n",
        "    folium.CircleMarker(\n",
        "        [lat, lng],\n",
        "        radius=9,\n",
        "        popup=label,\n",
        "        color='Red',\n",
        "        fill=True,\n",
        "        fill_color='#Blue',\n",
        "        fill_opacity=0.7).add_to(Fin_Brgh)\n",
        "Fin_Brgh"
      ],
      "execution_count": 7,
      "outputs": [
        {
          "output_type": "stream",
          "text": [
            "The geograpical coordinates of London are 51.5073219, -0.1276474.\n",
            "Requirement already satisfied: folium in /usr/local/lib/python3.6/dist-packages (0.8.3)\n",
            "Requirement already satisfied: numpy in /usr/local/lib/python3.6/dist-packages (from folium) (1.18.5)\n",
            "Requirement already satisfied: requests in /usr/local/lib/python3.6/dist-packages (from folium) (2.23.0)\n",
            "Requirement already satisfied: six in /usr/local/lib/python3.6/dist-packages (from folium) (1.12.0)\n",
            "Requirement already satisfied: jinja2 in /usr/local/lib/python3.6/dist-packages (from folium) (2.11.2)\n",
            "Requirement already satisfied: branca>=0.3.0 in /usr/local/lib/python3.6/dist-packages (from folium) (0.4.1)\n",
            "Requirement already satisfied: urllib3!=1.25.0,!=1.25.1,<1.26,>=1.21.1 in /usr/local/lib/python3.6/dist-packages (from requests->folium) (1.24.3)\n",
            "Requirement already satisfied: certifi>=2017.4.17 in /usr/local/lib/python3.6/dist-packages (from requests->folium) (2020.4.5.2)\n",
            "Requirement already satisfied: idna<3,>=2.5 in /usr/local/lib/python3.6/dist-packages (from requests->folium) (2.9)\n",
            "Requirement already satisfied: chardet<4,>=3.0.2 in /usr/local/lib/python3.6/dist-packages (from requests->folium) (3.0.4)\n",
            "Requirement already satisfied: MarkupSafe>=0.23 in /usr/local/lib/python3.6/dist-packages (from jinja2->folium) (1.1.1)\n"
          ],
          "name": "stdout"
        },
        {
          "output_type": "execute_result",
          "data": {
            "text/html": [
              "<div style=\"width:100%;\"><div style=\"position:relative;width:100%;height:0;padding-bottom:60%;\"><span style=\"color:#565656\">Make this Notebook Trusted to load map: File -> Trust Notebook</span><iframe src=\"about:blank\" style=\"position:absolute;width:100%;height:100%;left:0;top:0;border:none !important;\" data-html=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 onload=\"this.contentDocument.open();this.contentDocument.write(atob(this.getAttribute('data-html')));this.contentDocument.close();\" allowfullscreen webkitallowfullscreen mozallowfullscreen></iframe></div></div>"
            ],
            "text/plain": [
              "<folium.folium.Map at 0x7fe0bcdea748>"
            ]
          },
          "metadata": {
            "tags": []
          },
          "execution_count": 7
        }
      ]
    },
    {
      "cell_type": "code",
      "metadata": {
        "id": "3lgeLYV5vyRL",
        "colab_type": "code",
        "colab": {}
      },
      "source": [
        ""
      ],
      "execution_count": null,
      "outputs": []
    }
  ]
}